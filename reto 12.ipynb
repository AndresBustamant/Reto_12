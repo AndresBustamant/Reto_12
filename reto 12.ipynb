{
 "cells": [
  {
   "cell_type": "markdown",
   "metadata": {},
   "source": [
    "conteo de vocales"
   ]
  },
  {
   "cell_type": "code",
   "execution_count": null,
   "metadata": {},
   "outputs": [],
   "source": [
    "def contar_vocales(texto: str): #definicion e una funcion para el conteo de vocales\n",
    "  n_vocales=0 #conteo\n",
    "  for letra in texto:\n",
    "    if letra in \"aeiouAEIOU\"  #criterio para aumentar el conteo\n",
    "      n_vocales+=1\n",
    "    return n_vocales\n",
    "\n",
    "with open(\"mbox-short.txt\", 'r') as archivo: #apertura del archivo para trabajarlo como una variable\n",
    "  texto= archivo.read()\n",
    "\n",
    "cantidad_vocales= contar_vocales(texto) #aplicacion de la funcion a la variable texto\n",
    "\n",
    "print(\"la cantidad de vocales es igual a: \"+ str(cantidad_vocales))"
   ]
  },
  {
   "cell_type": "markdown",
   "metadata": {},
   "source": [
    "conteo de consonantes"
   ]
  },
  {
   "cell_type": "code",
   "execution_count": null,
   "metadata": {},
   "outputs": [],
   "source": [
    "def contar_consonantes(texto: str):   #definicion de una funcion para el conteo de consonantes\n",
    "  consonantes=0  #conteo\n",
    "  for letra in texto:\n",
    "    if letra.isalpha()  and letra not in  \"aeiouAEIOU\" #parametro para aumentar el contei\n",
    "      n_consonantes+=1\n",
    "    return n_vocales\n",
    "\n",
    "with open(\"mbox-short.txt\", 'r') as archivo: #apertura del archivo para trabajarlo como una variable\n",
    "  texto= archivo.read()\n",
    "\n",
    "cantidad_consonantes= contar_consonantes(texto) #aplicacion de la funcion a la vaiable texto\n",
    "\n",
    "print(\"la cantidad de vocales es igual a: \"+ str(cantidad_consonantes))"
   ]
  },
  {
   "cell_type": "markdown",
   "metadata": {},
   "source": [
    "conteo de las 50 palabras mas repetidas"
   ]
  },
  {
   "cell_type": "code",
   "execution_count": null,
   "metadata": {},
   "outputs": [],
   "source": [
    "def palabras_repetidas(texto: str):   #definicion de una funcion para el conteo de palabras\n",
    "  texto= texto.lower()   #convierte el texto a minuscula para evalauarlo de manera uniforme\n",
    "\n",
    "  numero_palabras:{}  #se crea un diccionario con el fin de evidenciar la ocurrencia de las palabras\n",
    "\n",
    "  for l in texto:  #se reemplazan los espacias y la simbologia no alfabetica\n",
    "    if not l.isalpha() and != \" \":\n",
    "      texto= texto.replace(l, \" \")\n",
    "\n",
    "  archivo = texto.split()  #se divide el texto en palabras individuales\n",
    "\n",
    "  for t in archivo:    #se genera un ciclo para contar las ocurrencias de las palabras\n",
    "    if t not in numero_palabras:  #si la palabra no esta en el diccionario se evalua\n",
    "      numero_de_palabras[t]=0\n",
    "    numero_de_palabras[t] +=1 #incrementa con cada ocurrencia\n",
    "\n",
    "  for l in sorted(numero_de_palabras, reverse=True, key=lambda l: numero_de_palabras[s]):[:51]:\n",
    "    print(\"La palabra: {} \\tSe repite {} \\tveces en el archivo\".format(l, numero_de_palabras[l])) #se indica la lectura de las 50 primeras ocurrencias\n",
    "\n",
    "with open(\"mbox-short.txt\", 'r') as file: #se abre el archivo en tipo lectura para trabajarlo como una variable\n",
    "  txt = file.read()\n",
    "  palabras_repetidas(txt) #se llama la funcion para aplicarla a el archivo"
   ]
  }
 ],
 "metadata": {
  "language_info": {
   "name": "python"
  }
 },
 "nbformat": 4,
 "nbformat_minor": 2
}
